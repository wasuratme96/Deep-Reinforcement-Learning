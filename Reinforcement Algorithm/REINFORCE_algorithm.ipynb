{
 "cells": [
  {
   "cell_type": "markdown",
   "metadata": {},
   "source": [
    "## REINFORCE algorithm <br/>\n",
    "So called name is **\"Policy Gradient Algorithm\"** <br/>\n",
    "This algorithm is Policy Based reinforcement learning."
   ]
  },
  {
   "cell_type": "markdown",
   "metadata": {},
   "source": [
    "Three component in need.\n",
    "1. Parameterized Policy\n",
    "2. Objective to maximize\n",
    "3. Method for updating the policy parameters"
   ]
  },
  {
   "cell_type": "markdown",
   "metadata": {},
   "source": [
    "### Policy\n",
    "Policy is mapping function which map state to action probabilities. <br/>\n",
    "a ∼ π(s), in REINFORCE, agent learns a policy and uses policy to act in environment."
   ]
  },
  {
   "cell_type": "code",
   "execution_count": null,
   "metadata": {},
   "outputs": [],
   "source": []
  },
  {
   "cell_type": "code",
   "execution_count": 5,
   "metadata": {},
   "outputs": [],
   "source": [
    "import numpy as np\n",
    "import torch\n",
    "import gym\n",
    "\n",
    "from torch.distributions import Categorical\n",
    "import torch.nn as nn\n",
    "import torch.optim as optim"
   ]
  },
  {
   "cell_type": "code",
   "execution_count": null,
   "metadata": {},
   "outputs": [],
   "source": [
    "gamma = 0.99\n",
    "\n",
    "class Pi(nn.Module):\n",
    "    def __init__(self, in_dim, out_dim):\n",
    "        super(Pi, self).__init__ ()\n",
    "        layers = [\n",
    "            nn.Linear(in_dim, 64),\n",
    "            nn.Relu(),\n",
    "            nn.Linear(64, out_dim)\n",
    "        ]\n",
    "        \n",
    "        self.model = nn.Sequential(*layers)\n",
    "        self.onpolicy_reset()\n",
    "        self.train()\n",
    "\n",
    "    def onpolicy_reset(self) :\n",
    "        self.log_probs = []\n",
    "        self.rewards = []\n",
    "\n",
    "    def forward(self, x):\n",
    "        pdparam = self.model(x)\n",
    "        return pdparam\n",
    "\n",
    "    def act(self, state):\n",
    "        x = torch.from_numpy(state.astype(np.float32))\n",
    "        pdparam = self.forward(x)\n",
    "\n",
    "        pd = Categorical(logits = pdparam)\n",
    "        action = pd.sample()\n",
    "        log_prob = pd.log_prob(action)\n",
    "        self.log_probs.append(log_prob)\n",
    "        \n",
    "        return action.item()"
   ]
  }
 ],
 "metadata": {
  "interpreter": {
   "hash": "f7c19dd74c849e9bda36735fb540e619bc470027ba87746e9905678374fcb1de"
  },
  "kernelspec": {
   "display_name": "Python 3.8.5 ('rl_torch_env': venv)",
   "language": "python",
   "name": "python3"
  },
  "language_info": {
   "codemirror_mode": {
    "name": "ipython",
    "version": 3
   },
   "file_extension": ".py",
   "mimetype": "text/x-python",
   "name": "python",
   "nbconvert_exporter": "python",
   "pygments_lexer": "ipython3",
   "version": "3.8.5"
  },
  "orig_nbformat": 4
 },
 "nbformat": 4,
 "nbformat_minor": 2
}
